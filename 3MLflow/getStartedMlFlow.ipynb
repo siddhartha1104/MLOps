{
 "cells": [
  {
   "cell_type": "markdown",
   "id": "65f1d711",
   "metadata": {},
   "source": [
    "# ML Flow Tracking Server"
   ]
  },
  {
   "cell_type": "code",
   "execution_count": 1,
   "id": "147501c9",
   "metadata": {},
   "outputs": [],
   "source": [
    "import mlflow"
   ]
  },
  {
   "cell_type": "code",
   "execution_count": 2,
   "id": "8bdb59aa",
   "metadata": {},
   "outputs": [],
   "source": [
    "mlflow.set_tracking_uri(\" http://127.0.0.1:5000\")"
   ]
  },
  {
   "cell_type": "code",
   "execution_count": 5,
   "id": "e7bd04de",
   "metadata": {},
   "outputs": [
    {
     "name": "stdout",
     "output_type": "stream",
     "text": [
      "🏃 View run worried-grouse-612 at:  http://127.0.0.1:5000/#/experiments/559285438465571018/runs/bdebb6ffa2654d6bbef03aafc74d1608\n",
      "🧪 View experiment at:  http://127.0.0.1:5000/#/experiments/559285438465571018\n"
     ]
    }
   ],
   "source": [
    "mlflow.set_experiment(\"check localhost connection\")\n",
    "\n",
    "with mlflow.start_run():\n",
    "    mlflow.log_metric(\"test\",1)\n",
    "    mlflow.log_metric(\"sid\",2)"
   ]
  },
  {
   "cell_type": "code",
   "execution_count": 6,
   "id": "4066b7dd",
   "metadata": {},
   "outputs": [],
   "source": [
    "import pandas"
   ]
  },
  {
   "cell_type": "code",
   "execution_count": null,
   "id": "d2467c97",
   "metadata": {},
   "outputs": [],
   "source": []
  },
  {
   "cell_type": "code",
   "execution_count": null,
   "id": "74d4794e",
   "metadata": {},
   "outputs": [],
   "source": []
  }
 ],
 "metadata": {
  "kernelspec": {
   "display_name": "3MLflow",
   "language": "python",
   "name": "python3"
  },
  "language_info": {
   "codemirror_mode": {
    "name": "ipython",
    "version": 3
   },
   "file_extension": ".py",
   "mimetype": "text/x-python",
   "name": "python",
   "nbconvert_exporter": "python",
   "pygments_lexer": "ipython3",
   "version": "3.10.18"
  }
 },
 "nbformat": 4,
 "nbformat_minor": 5
}
